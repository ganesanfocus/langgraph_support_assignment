{
 "cells": [
  {
   "cell_type": "code",
   "execution_count": 9,
   "id": "5e1ace1d",
   "metadata": {},
   "outputs": [],
   "source": [
    "from langgraph.graph import StateGraph, END\n",
    "from typing import TypedDict, Literal, Optional, List\n",
    "from IPython.display import Image, display\n",
    "from datetime import datetime"
   ]
  },
  {
   "cell_type": "code",
   "execution_count": null,
   "id": "81752bce",
   "metadata": {},
   "outputs": [],
   "source": [
    "# Define the state\n",
    "class SupportState(TypedDict):\n",
    "    user_id: str\n",
    "    message: str\n",
    "    sentiment: Optional[Literal[\"positive\", \"neutral\", \"negative\", \"urgent\"]]\n",
    "    category: Optional[Literal[\"billing\", \"technical\", \"account\", \"product\"]]\n",
    "    priority: Optional[Literal[\"low\", \"medium\", \"high\", \"critical\"]]\n",
    "    context: Optional[List[str]]  # Previous conversation history\n",
    "    response: Optional[str]\n",
    "    escalate: bool\n",
    "    requires_human: bool\n",
    "    ticket_id: Optional[str]"
   ]
  },
  {
   "cell_type": "markdown",
   "id": "a1401608",
   "metadata": {},
   "source": [
    "## Nodes ##\n"
   ]
  },
  {
   "cell_type": "code",
   "execution_count": null,
   "id": "e3eaee02",
   "metadata": {},
   "outputs": [],
   "source": [
    "\n",
    "def analyze_sentiment(state: SupportState):\n",
    "    \"\"\"Analyze message sentiment and urgency\"\"\"\n",
    "    msg = state[\"message\"].lower()\n",
    "    \n",
    "    # Check for urgent keywords\n",
    "    urgent_keywords = [\"urgent\", \"asap\", \"immediately\", \"emergency\", \"critical\", \"not working\"]\n",
    "    negative_keywords = [\"angry\", \"frustrated\", \"disappointed\", \"terrible\", \"worst\", \"bad\"]\n",
    "    \n",
    "    if any(word in msg for word in urgent_keywords):\n",
    "        sentiment = \"urgent\"\n",
    "    elif any(word in msg for word in negative_keywords):\n",
    "        sentiment = \"negative\"\n",
    "    elif any(word in msg for word in [\"thank\", \"great\", \"love\", \"awesome\"]):\n",
    "        sentiment = \"positive\"\n",
    "    else:\n",
    "        sentiment = \"neutral\"\n",
    "    \n",
    "    return {\"sentiment\": sentiment}\n",
    "\n",
    "\n",
    "def categorize_issue(state: SupportState):\n",
    "    \"\"\"Categorize the support request\"\"\"\n",
    "    msg = state[\"message\"].lower()\n",
    "    \n",
    "    if any(word in msg for word in [\"bill\", \"charge\", \"payment\", \"refund\", \"invoice\"]):\n",
    "        category = \"billing\"\n",
    "    elif any(word in msg for word in [\"bug\", \"error\", \"crash\", \"not working\", \"broken\"]):\n",
    "        category = \"technical\"\n",
    "    elif any(word in msg for word in [\"login\", \"password\", \"access\", \"account\", \"reset\"]):\n",
    "        category = \"account\"\n",
    "    else:\n",
    "        category = \"product\"\n",
    "    \n",
    "    return {\"category\": category}\n",
    "\n",
    "\n",
    "def assign_priority(state: SupportState):\n",
    "    \"\"\"Assign priority based on sentiment and category\"\"\"\n",
    "    sentiment = state[\"sentiment\"]\n",
    "    category = state[\"category\"]\n",
    "    \n",
    "    # Critical: urgent sentiment OR billing + negative\n",
    "    if sentiment == \"urgent\" or (category == \"billing\" and sentiment == \"negative\"):\n",
    "        priority = \"critical\"\n",
    "    # High: negative sentiment OR technical issues\n",
    "    elif sentiment == \"negative\" or category == \"technical\":\n",
    "        priority = \"high\"\n",
    "    # Medium: neutral technical or account issues\n",
    "    elif category in [\"technical\", \"account\"] and sentiment == \"neutral\":\n",
    "        priority = \"medium\"\n",
    "    else:\n",
    "        priority = \"low\"\n",
    "    \n",
    "    return {\"priority\": priority}\n",
    "\n",
    "\n",
    "def check_knowledge_base(state: SupportState):\n",
    "    \"\"\"Check if we can auto-resolve from knowledge base\"\"\"\n",
    "    category = state[\"category\"]\n",
    "    priority = state[\"priority\"]\n",
    "    \n",
    "    # Auto-resolve conditions:\n",
    "    # - Low/medium priority\n",
    "    # - Account or product categories (not billing/technical critical issues)\n",
    "    can_auto_resolve = (\n",
    "        priority in [\"low\", \"medium\"] and \n",
    "        category in [\"account\", \"product\"]\n",
    "    )\n",
    "    \n",
    "    if can_auto_resolve:\n",
    "        return {\n",
    "            \"response\": f\"Auto-resolved {category} issue from knowledge base\",\n",
    "            \"requires_human\": False\n",
    "        }\n",
    "    else:\n",
    "        return {\"requires_human\": True}\n",
    "\n",
    "\n",
    "def generate_ai_response(state: SupportState):\n",
    "    \"\"\"Generate AI-powered response for medium complexity issues\"\"\"\n",
    "    return {\n",
    "        \"response\": f\"AI-generated response for {state['category']} issue (Priority: {state['priority']})\",\n",
    "        \"escalate\": state[\"priority\"] == \"critical\"\n",
    "    }\n",
    "\n",
    "\n",
    "def escalate_to_human(state: SupportState):\n",
    "    \"\"\"Route to human agent\"\"\"\n",
    "    ticket_id = f\"TKT-{datetime.now().strftime('%Y%m%d%H%M%S')}\"\n",
    "    return {\n",
    "        \"response\": f\"Escalated to human agent - Ticket: {ticket_id}\",\n",
    "        \"ticket_id\": ticket_id,\n",
    "        \"escalate\": True\n",
    "    }\n",
    "\n",
    "\n",
    "def send_automated_response(state: SupportState):\n",
    "    \"\"\"Send quick automated response\"\"\"\n",
    "    return {\n",
    "        \"response\": f\"Automated response for {state['category']} query\",\n",
    "        \"escalate\": False\n",
    "    }"
   ]
  },
  {
   "cell_type": "markdown",
   "id": "91561595",
   "metadata": {},
   "source": [
    "# Routes #"
   ]
  },
  {
   "cell_type": "code",
   "execution_count": 12,
   "id": "226eb834",
   "metadata": {},
   "outputs": [],
   "source": [
    "def should_auto_resolve(state: SupportState) -> str:\n",
    "    \"\"\"Decide if we can auto-resolve or need AI/human\"\"\"\n",
    "    if not state.get(\"requires_human\"):\n",
    "        return \"automated\"\n",
    "    elif state[\"priority\"] in [\"critical\", \"high\"]:\n",
    "        return \"escalate\"\n",
    "    else:\n",
    "        return \"ai_response\"\n",
    "\n",
    "\n",
    "def should_escalate(state: SupportState) -> str:\n",
    "    \"\"\"Decide if AI response should be escalated\"\"\"\n",
    "    if state.get(\"escalate\"):\n",
    "        return \"escalate\"\n",
    "    else:\n",
    "        return \"end\"\n"
   ]
  },
  {
   "cell_type": "markdown",
   "id": "f59b55ce",
   "metadata": {},
   "source": [
    "# Build the workflow #"
   ]
  },
  {
   "cell_type": "code",
   "execution_count": 13,
   "id": "7ae47cd8",
   "metadata": {},
   "outputs": [
    {
     "data": {
      "text/plain": [
       "<langgraph.graph.state.StateGraph at 0x1b709962f00>"
      ]
     },
     "execution_count": 13,
     "metadata": {},
     "output_type": "execute_result"
    }
   ],
   "source": [
    "workflow = StateGraph(SupportState)\n",
    "\n",
    "# Add all nodes\n",
    "workflow.add_node(\"analyze_sentiment\", analyze_sentiment)\n",
    "workflow.add_node(\"categorize\", categorize_issue)\n",
    "workflow.add_node(\"assign_priority\", assign_priority)\n",
    "workflow.add_node(\"check_knowledge_base\", check_knowledge_base)\n",
    "workflow.add_node(\"ai_response\", generate_ai_response)\n",
    "workflow.add_node(\"escalate\", escalate_to_human)\n",
    "workflow.add_node(\"automated\", send_automated_response)\n"
   ]
  },
  {
   "cell_type": "markdown",
   "id": "680cc943",
   "metadata": {},
   "source": [
    "# Define the flow #"
   ]
  },
  {
   "cell_type": "code",
   "execution_count": 14,
   "id": "df100b84",
   "metadata": {},
   "outputs": [
    {
     "data": {
      "text/plain": [
       "<langgraph.graph.state.StateGraph at 0x1b709962f00>"
      ]
     },
     "execution_count": 14,
     "metadata": {},
     "output_type": "execute_result"
    }
   ],
   "source": [
    "workflow.set_entry_point(\"analyze_sentiment\")\n",
    "\n",
    "# Sequential processing\n",
    "workflow.add_edge(\"analyze_sentiment\", \"categorize\")\n",
    "workflow.add_edge(\"categorize\", \"assign_priority\")\n",
    "workflow.add_edge(\"assign_priority\", \"check_knowledge_base\")"
   ]
  },
  {
   "cell_type": "markdown",
   "id": "8619a2c0",
   "metadata": {},
   "source": [
    "# Conditional Checks #\n"
   ]
  },
  {
   "cell_type": "code",
   "execution_count": 15,
   "id": "1cb02991",
   "metadata": {},
   "outputs": [
    {
     "data": {
      "text/plain": [
       "<langgraph.graph.state.StateGraph at 0x1b709962f00>"
      ]
     },
     "execution_count": 15,
     "metadata": {},
     "output_type": "execute_result"
    }
   ],
   "source": [
    "# Conditional routing after Knowledge Base check\n",
    "workflow.add_conditional_edges(\n",
    "    \"check_knowledge_base\",\n",
    "    should_auto_resolve,\n",
    "    {\n",
    "        \"automated\": \"automated\",\n",
    "        \"ai_response\": \"ai_response\",\n",
    "        \"escalate\": \"escalate\"\n",
    "    }\n",
    ")\n",
    "\n",
    "# AI response may need escalation\n",
    "workflow.add_conditional_edges(\n",
    "    \"ai_response\",\n",
    "    should_escalate,\n",
    "    {\n",
    "        \"escalate\": \"escalate\",\n",
    "        \"end\": END\n",
    "    }\n",
    ")\n",
    "\n"
   ]
  },
  {
   "cell_type": "markdown",
   "id": "f1e384da",
   "metadata": {},
   "source": [
    "# End of Nodes #"
   ]
  },
  {
   "cell_type": "code",
   "execution_count": 16,
   "id": "112f0271",
   "metadata": {},
   "outputs": [],
   "source": [
    "workflow.add_edge(\"automated\", END)\n",
    "workflow.add_edge(\"escalate\", END)\n",
    "\n",
    "graph = workflow.compile()\n"
   ]
  },
  {
   "cell_type": "markdown",
   "id": "4ede4dba",
   "metadata": {},
   "source": [
    "# Visualize "
   ]
  },
  {
   "cell_type": "code",
   "execution_count": 17,
   "id": "28511729",
   "metadata": {},
   "outputs": [
    {
     "data": {
      "image/png": "[encoded data removed]",
      "text/plain": [
       "<IPython.core.display.Image object>"
      ]
     },
     "metadata": {},
     "output_type": "display_data"
    }
   ],
   "source": [
    "from IPython.display import Image, display\n",
    "display(Image(graph.get_graph().draw_mermaid_png()))\n"
   ]
  },
  {
   "cell_type": "markdown",
   "id": "bae0f2c2",
   "metadata": {},
   "source": [
    "# Test the module #"
   ]
  },
  {
   "cell_type": "code",
   "execution_count": 18,
   "id": "ba854e7d",
   "metadata": {},
   "outputs": [
    {
     "name": "stdout",
     "output_type": "stream",
     "text": [
      "\n",
      "============================================================\n",
      "TESTING WORKFLOW\n",
      "============================================================\n",
      "\n",
      "🧪 Test Case 1:\n",
      "   Message: URGENT: Cannot access my account, need help immediately!\n",
      "   → Sentiment: urgent\n",
      "   → Category: account\n",
      "   → Priority: critical\n",
      "   → Response: Escalated to human agent - Ticket: TKT-20251010123922\n",
      "   → Ticket: TKT-20251010123922\n",
      "\n",
      "🧪 Test Case 2:\n",
      "   Message: How do I reset my password?\n",
      "   → Sentiment: neutral\n",
      "   → Category: account\n",
      "   → Priority: medium\n",
      "   → Response: Automated response for account query\n",
      "\n",
      "🧪 Test Case 3:\n",
      "   Message: I'm very frustrated with the billing charges, this is terrible!\n",
      "   → Sentiment: negative\n",
      "   → Category: billing\n",
      "   → Priority: critical\n",
      "   → Response: Escalated to human agent - Ticket: TKT-20251010123922\n",
      "   → Ticket: TKT-20251010123922\n"
     ]
    }
   ],
   "source": [
    "test_cases = [\n",
    "    {\n",
    "        \"user_id\": \"U123\",\n",
    "        \"message\": \"URGENT: Cannot access my account, need help immediately!\",\n",
    "        \"context\": []\n",
    "    },\n",
    "    {\n",
    "        \"user_id\": \"U456\", \n",
    "        \"message\": \"How do I reset my password?\",\n",
    "        \"context\": []\n",
    "    },\n",
    "    {\n",
    "        \"user_id\": \"U789\",\n",
    "        \"message\": \"I'm very frustrated with the billing charges, this is terrible!\",\n",
    "        \"context\": []\n",
    "    }\n",
    "]\n",
    "\n",
    "print(\"\\n\" + \"=\"*60)\n",
    "print(\"TESTING WORKFLOW\")\n",
    "print(\"=\"*60)\n",
    "\n",
    "for i, test in enumerate(test_cases, 1):\n",
    "    print(f\"\\n🧪 Test Case {i}:\")\n",
    "    print(f\"   Message: {test['message']}\")\n",
    "    result = graph.invoke(test)\n",
    "    print(f\"   → Sentiment: {result.get('sentiment')}\")\n",
    "    print(f\"   → Category: {result.get('category')}\")\n",
    "    print(f\"   → Priority: {result.get('priority')}\")\n",
    "    print(f\"   → Response: {result.get('response')}\")\n",
    "    if result.get('ticket_id'):\n",
    "        print(f\"   → Ticket: {result.get('ticket_id')}\")"
   ]
  }
 ],
 "metadata": {
  "kernelspec": {
   "display_name": "venv",
   "language": "python",
   "name": "python3"
  },
  "language_info": {
   "codemirror_mode": {
    "name": "ipython",
    "version": 3
   },
   "file_extension": ".py",
   "mimetype": "text/x-python",
   "name": "python",
   "nbconvert_exporter": "python",
   "pygments_lexer": "ipython3",
   "version": "3.12.8"
  }
 },
 "nbformat": 4,
 "nbformat_minor": 5
}
